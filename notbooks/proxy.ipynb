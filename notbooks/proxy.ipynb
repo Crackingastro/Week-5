{
 "cells": [
  {
   "cell_type": "code",
   "execution_count": 4,
   "id": "5ae90903",
   "metadata": {},
   "outputs": [],
   "source": [
    "import pandas as pd\n",
    "import numpy as np\n",
    "from sklearn.cluster import KMeans\n",
    "from sklearn.preprocessing import StandardScaler\n",
    "from datetime import datetime"
   ]
  },
  {
   "cell_type": "code",
   "execution_count": 5,
   "id": "a114c207",
   "metadata": {},
   "outputs": [],
   "source": [
    "def create_rfm_features(df):\n",
    "    \"\"\"\n",
    "    Calculate RFM (Recency, Frequency, Monetary) metrics for each customer.\n",
    "    \"\"\"\n",
    "    # Ensure datetime format\n",
    "    df['TransactionStartTime'] = pd.to_datetime(df['TransactionStartTime'])\n",
    "    \n",
    "    # Set snapshot date (most recent transaction in data)\n",
    "    snapshot_date = df['TransactionStartTime'].max()\n",
    "    \n",
    "    # Group by customer and calculate RFM\n",
    "    rfm = df.groupby('CustomerId').agg({\n",
    "        'TransactionStartTime': lambda x: (snapshot_date - x.max()).days,  # Recency\n",
    "        'TransactionId': 'count',                                         # Frequency\n",
    "        'Amount': 'sum'                                                   # Monetary\n",
    "    }).reset_index()\n",
    "    \n",
    "    rfm.columns = ['CustomerId', 'Recency', 'Frequency', 'Monetary']\n",
    "    return rfm\n"
   ]
  },
  {
   "cell_type": "code",
   "execution_count": 6,
   "id": "bfcc3307",
   "metadata": {},
   "outputs": [],
   "source": [
    "\n",
    "def add_high_risk_label(df, n_clusters=3, random_state=42):\n",
    "    \"\"\"\n",
    "    Add is_high_risk column to the original dataframe using RFM analysis.\n",
    "    \"\"\"\n",
    "    # Calculate RFM metrics\n",
    "    rfm = create_rfm_features(df)\n",
    "    \n",
    "    # Copy for processing\n",
    "    rfm_processed = rfm.copy()\n",
    "    \n",
    "    # Handle negative values and log transform\n",
    "    rfm_processed['Monetary'] = rfm_processed['Monetary'].clip(lower=0)\n",
    "    rfm_processed['Frequency'] = np.log1p(rfm_processed['Frequency'])\n",
    "    rfm_processed['Monetary'] = np.log1p(rfm_processed['Monetary'])\n",
    "    \n",
    "    # Standardize features\n",
    "    scaler = StandardScaler()\n",
    "    features = ['Recency', 'Frequency', 'Monetary']\n",
    "    rfm_scaled = scaler.fit_transform(rfm_processed[features])\n",
    "    \n",
    "    # Cluster customers\n",
    "    kmeans = KMeans(n_clusters=n_clusters, random_state=random_state)\n",
    "    clusters = kmeans.fit_predict(rfm_scaled)\n",
    "    rfm_processed['Cluster'] = clusters\n",
    "    \n",
    "    # Identify high-risk cluster (highest recency, lowest frequency/monetary)\n",
    "    cluster_means = rfm_processed.groupby('Cluster')[features].mean()\n",
    "    cluster_means['Score'] = (\n",
    "        cluster_means['Recency'].rank(ascending=True) + \n",
    "        cluster_means['Frequency'].rank(ascending=False) + \n",
    "        cluster_means['Monetary'].rank(ascending=False)\n",
    "    )\n",
    "    high_risk_cluster = cluster_means['Score'].idxmax()\n",
    "    \n",
    "    # Create risk labels\n",
    "    rfm_processed['is_high_risk'] = (rfm_processed['Cluster'] == high_risk_cluster).astype(int)\n",
    "    \n",
    "    # Merge back to original data\n",
    "    df_with_risk = pd.merge(\n",
    "        df,\n",
    "        rfm_processed[['CustomerId', 'is_high_risk']],\n",
    "        on='CustomerId',\n",
    "        how='left'\n",
    "    )\n",
    "    \n",
    "    # Fill NA with 0 (customers with no transactions are low risk)\n",
    "    df_with_risk['is_high_risk'] = df_with_risk['is_high_risk'].fillna(0)\n",
    "    \n",
    "    return df_with_risk\n"
   ]
  },
  {
   "cell_type": "code",
   "execution_count": 7,
   "id": "be890435",
   "metadata": {},
   "outputs": [],
   "source": [
    "\n",
    "df = pd.read_csv('../Data/raw/data.csv')\n",
    "df_with_risk = add_high_risk_label(df)\n",
    "\n",
    "df_with_risk.to_csv(\"Proxy.csv\")"
   ]
  }
 ],
 "metadata": {
  "kernelspec": {
   "display_name": "Python 3",
   "language": "python",
   "name": "python3"
  },
  "language_info": {
   "codemirror_mode": {
    "name": "ipython",
    "version": 3
   },
   "file_extension": ".py",
   "mimetype": "text/x-python",
   "name": "python",
   "nbconvert_exporter": "python",
   "pygments_lexer": "ipython3",
   "version": "3.12.10"
  }
 },
 "nbformat": 4,
 "nbformat_minor": 5
}
